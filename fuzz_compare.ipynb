{
 "cells": [
  {
   "cell_type": "markdown",
   "id": "7fc6fba4",
   "metadata": {},
   "source": [
    "# Косинусное сходство"
   ]
  },
  {
   "cell_type": "code",
   "execution_count": null,
   "id": "81012824",
   "metadata": {},
   "outputs": [],
   "source": [
    "from sklearn.metrics.pairwise import cosine_similarity\n",
    "from sklearn.feature_extraction.text import CountVectorizer\n",
    "\n",
    "def str_to_vecs(text, target):\n",
    "    \"\"\"Функция трансформирует заданные строки в вектора\"\"\"\n",
    "    # в качестве токенов для векторизации выступают буквы\n",
    "    vectorizer = CountVectorizer(analyzer='char')\n",
    "    vectorizer = vectorizer.fit_transform([text, target])\n",
    "    text_vec, target_vec = vectorizer.toarray()[0], vectorizer.toarray()[1]\n",
    "    return text_vec, target_vec\n",
    "\n",
    "def cos_sim_vecs(vec1, vec2):\n",
    "    \"\"\"Функция вычисляет косинусное сходство для двух заданных векторов\"\"\"\n",
    "    vec1 = vec1.reshape(1, -1)\n",
    "    vec2 = vec2.reshape(1, -1)   \n",
    "    return cosine_similarity(vec1, vec2)[0][0]\n",
    "\n",
    "def cos_check(text, target):\n",
    "    # переменная для отслеживания максимального косинусного сходства\n",
    "    score = 0\n",
    "    # переменная для отслеживания положения строки похожей на искомую\n",
    "    pos = 0\n",
    "    # убеждаемся что текст больше искомой строки \n",
    "    assert len(text) > len(target)\n",
    "    # \"скользящим окном\" размером с искомую строку проходим по всему тексту и вычисляем метрику\n",
    "    for i in range(len(text) - len(target)):\n",
    "        # векторизируем искомую строку и срез текста\n",
    "        text_vec, target_vec = str_to_vecs(text[i: i + len(target)], target)\n",
    "        # вычисляем косинусное сходство на данном срезе\n",
    "        current_score = cos_sim_vecs(text_vec, target_vec)\n",
    "        # если текущая метрика больше чем все предыдущие считаем что мы нашли похожую строку\n",
    "        if current_score > score:\n",
    "            score = current_score\n",
    "            pos = i\n",
    "    return score, text[pos: pos + len(target)]"
   ]
  },
  {
   "cell_type": "markdown",
   "id": "7802eefb",
   "metadata": {},
   "source": [
    "# Джаро-Винклер"
   ]
  },
  {
   "cell_type": "code",
   "execution_count": null,
   "id": "13e70310",
   "metadata": {},
   "outputs": [],
   "source": [
    "import rapidfuzz.distance.JaroWinkler as JW\n",
    "\n",
    "def jw_check(text, target):\n",
    "    \"\"\"Функция аналогична косинусному сходству только без векторизации\"\"\"\n",
    "    score = 0\n",
    "    pos = 0\n",
    "    assert len(text) > len(target)\n",
    "    for i in range(len(text) - len(target)):\n",
    "        current_score = JW.normalized_similarity(text[i: i + len(target)], target)\n",
    "        if current_score > score:\n",
    "            score = current_score\n",
    "            pos = i\n",
    "    return score, text[pos: pos + len(target)]"
   ]
  },
  {
   "cell_type": "markdown",
   "id": "c1f88c11",
   "metadata": {},
   "source": [
    "# Левенштейн"
   ]
  },
  {
   "cell_type": "code",
   "execution_count": null,
   "id": "177da6d5",
   "metadata": {},
   "outputs": [],
   "source": [
    "from rapidfuzz import fuzz\n",
    "\n",
    "def lev_check(text, target):\n",
    "    \"\"\"Функция фналогична косинусному сходству только без векторизации\"\"\"\n",
    "    score = 0\n",
    "    pos = 0\n",
    "    assert len(text) > len(target)\n",
    "    for i in range(len(text) - len(target)):\n",
    "        # делим метрику на 100, т.к. данная метрика находится в пределах от 0 до 100\n",
    "        current_score = fuzz.ratio(text[i: i + len(target)], target)/100\n",
    "        if current_score > score:\n",
    "            score = current_score\n",
    "            pos = i\n",
    "    return score, text[pos: pos + len(target)]"
   ]
  }
 ],
 "metadata": {
  "kernelspec": {
   "display_name": "Python 3 (ipykernel)",
   "language": "python",
   "name": "python3"
  },
  "language_info": {
   "codemirror_mode": {
    "name": "ipython",
    "version": 3
   },
   "file_extension": ".py",
   "mimetype": "text/x-python",
   "name": "python",
   "nbconvert_exporter": "python",
   "pygments_lexer": "ipython3",
   "version": "3.10.6"
  }
 },
 "nbformat": 4,
 "nbformat_minor": 5
}
